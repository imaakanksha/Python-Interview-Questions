{
 "cells": [
  {
   "cell_type": "code",
   "execution_count": 2,
   "metadata": {},
   "outputs": [
    {
     "name": "stdout",
     "output_type": "stream",
     "text": [
      "Yes, it is a Palindrome.\n"
     ]
    }
   ],
   "source": [
    "#PALINDROME NUMBER \n",
    "#PALINDROME QUESTIONS FOR THE STRING USING THE SPLIT METHOD\n",
    "#A. By using the SPLIT METHOD\n",
    "def palindrome(s):\n",
    "    s=s.lower()\n",
    "    temp = s[::-1]\n",
    "    if s == temp:\n",
    "        print(\"Yes, it is a Palindrome.\")\n",
    "    else:\n",
    "        print(\"No, it is not Palindrome.\")\n",
    "s = input(\"Enter the value of the string for which we have to check it is Palindrome or not: \")\n",
    "palindrome(s)"
   ]
  },
  {
   "cell_type": "code",
   "execution_count": 4,
   "metadata": {},
   "outputs": [
    {
     "name": "stdout",
     "output_type": "stream",
     "text": [
      "True\n"
     ]
    }
   ],
   "source": [
    "#PALINDROME QUESTIONS FOR THE STRING USING THE INDEXING METHOD/ FOR LOOP MENTHOD\n",
    "#B. By using the INDEXING METHOD/ FOR LOOP METHOD\n",
    "\n",
    "def isPalindrome(s):\n",
    "    n=len(s)\n",
    "    for i in range(n):\n",
    "        if s[i] != s[n-i-1]:\n",
    "            return False\n",
    "    return True\n",
    "\n",
    "s=\"anitina\"\n",
    "print(isPalindrome(s))\n"
   ]
  },
  {
   "cell_type": "code",
   "execution_count": 10,
   "metadata": {},
   "outputs": [
    {
     "name": "stdout",
     "output_type": "stream",
     "text": [
      "No, it is not Palindrome.\n"
     ]
    }
   ],
   "source": [
    "#PALINDROME QUESTIONS FOR THE STRING USING THE INBUILT FUNCTION : REVERSED AND JOIN\n",
    "#C. By using the INBUILT FUNCTIONS - REVERSED AND JOIN FUNCTIONS\n",
    "\n",
    "def palindrome3(s):\n",
    "    #reverse_s=reversed(s)\n",
    "    #print(reverse_s)\n",
    "    ##for i in reverse_s:\n",
    "     #   print(i)\n",
    "    temp = ''.join(reversed(s))\n",
    "    if s == temp:\n",
    "        return True\n",
    "    else:\n",
    "        return False\n",
    "\n",
    "s=\"antina\"\n",
    "palindrome(s)"
   ]
  },
  {
   "cell_type": "code",
   "execution_count": 12,
   "metadata": {},
   "outputs": [
    {
     "data": {
      "text/plain": [
       "True"
      ]
     },
     "execution_count": 12,
     "metadata": {},
     "output_type": "execute_result"
    }
   ],
   "source": [
    "#D TO CHECK THE PALINDROME USING THE WHILE LOOP\n",
    "#By using the WHILE LOOP\n",
    "def palindrome4(s):\n",
    "    n = len(s)\n",
    "    first = 0\n",
    "    last = n-1\n",
    "    while(first<last):\n",
    "        if s[first] == s[last]:\n",
    "            first += 1\n",
    "            last -= 1\n",
    "        else:\n",
    "            return False\n",
    "    return True\n",
    "\n",
    "s=\"poiuuiop\"\n",
    "palindrome4(s)\n"
   ]
  },
  {
   "cell_type": "code",
   "execution_count": 14,
   "metadata": {},
   "outputs": [
    {
     "name": "stdout",
     "output_type": "stream",
     "text": [
      "False\n"
     ]
    }
   ],
   "source": [
    "# PALINDROEM NUMBER : INCASE OF NUMBERS\n",
    "# BY USING SPLIT METHOD - CONVERTING THE NUMBER IN THE STRING\n",
    "# DO NOT USE THIS METHOD IT IS NOT PREFERABLE\n",
    "def palindrome5(n):\n",
    "    s=str(n)\n",
    "    temp=s[::-1]\n",
    "    if s == temp:\n",
    "        return True\n",
    "    else:\n",
    "        return False\n",
    "    \n",
    "n = 123456\n",
    "print(palindrome5(n))"
   ]
  },
  {
   "cell_type": "code",
   "execution_count": 18,
   "metadata": {},
   "outputs": [
    {
     "name": "stdout",
     "output_type": "stream",
     "text": [
      "True\n"
     ]
    }
   ],
   "source": [
    "#PALINDROME NUMBER : BY USING THE WHILE LOOP\n",
    "def palindrome6(n):\n",
    "    temp = n #1456\n",
    "    rev_n=0\n",
    "    while (temp>0):\n",
    "        digit = temp % 10\n",
    "        #print(digit)\n",
    "        rev_n=rev_n*10+digit\n",
    "        #rev_n = 0*10 + 6 = 6\n",
    "        temp = temp // 10  #145\n",
    "    if n == rev_n:\n",
    "        return True\n",
    "    else:\n",
    "        return False\n",
    "    \n",
    "n=12345654321\n",
    "print(palindrome6(n))"
   ]
  },
  {
   "cell_type": "code",
   "execution_count": 20,
   "metadata": {},
   "outputs": [
    {
     "name": "stdout",
     "output_type": "stream",
     "text": [
      "False\n"
     ]
    }
   ],
   "source": [
    "#BEST WAY TO CHECK THE PALINDROEM NUMBER BY USING THE WHILE LOOP IN THE CASE OF NUMBERS\n",
    "def palindromeNum(num):\n",
    "    temp = num\n",
    "    rev_n=0\n",
    "    while(temp>0):\n",
    "        digit = temp % 10\n",
    "        rev_n = rev_n * 10 + digit\n",
    "        temp = temp // 10\n",
    "    if num == rev_n:\n",
    "        return True\n",
    "    else:\n",
    "        return False\n",
    "num = 34567\n",
    "print(palindromeNum(num))\n",
    "        "
   ]
  },
  {
   "cell_type": "code",
   "execution_count": 22,
   "metadata": {},
   "outputs": [
    {
     "name": "stdout",
     "output_type": "stream",
     "text": [
      "0\n",
      "1\n",
      "1\n",
      "2\n",
      "3\n",
      "5\n",
      "8\n",
      "13\n",
      "21\n",
      "34\n",
      "55\n",
      "89\n",
      "144\n"
     ]
    }
   ],
   "source": [
    "#FIBONACCI SERIES\n",
    "#Find the Fibonacci Series from 0 to nth number using While Loop\n",
    "#0,1,1,2,3,5,8,13,21............................\n",
    "#By using the While Loop\n",
    "def fibonnaci(n):\n",
    "    a,b=0,1\n",
    "    print(a)\n",
    "    while (b<n):\n",
    "        print(b)\n",
    "        c=a+b\n",
    "        a=b\n",
    "        b=c\n",
    "fibonnaci(150)"
   ]
  },
  {
   "cell_type": "code",
   "execution_count": 27,
   "metadata": {},
   "outputs": [
    {
     "name": "stdout",
     "output_type": "stream",
     "text": [
      "0\n",
      "1\n",
      "1\n",
      "2\n",
      "3\n",
      "5\n",
      "8\n",
      "13\n",
      "21\n",
      "34\n",
      "55\n",
      "89\n",
      "144\n"
     ]
    }
   ],
   "source": [
    "#Print the Fibonnaci Series withoud using the 3rd Variable\n",
    "def fibonnaci(num):\n",
    "    a,b=0,1\n",
    "    print(a)\n",
    "    while(b<num):\n",
    "        print(b)\n",
    "        a,b = b, a+b\n",
    "fibonnaci(200)"
   ]
  },
  {
   "cell_type": "code",
   "execution_count": 36,
   "metadata": {},
   "outputs": [
    {
     "name": "stdout",
     "output_type": "stream",
     "text": [
      "0\n",
      "1\n",
      "1\n",
      "2\n",
      "3\n",
      "5\n",
      "8\n",
      "13\n"
     ]
    }
   ],
   "source": [
    "#PRINT FIBONNACI SERIES BY USING THE FOR LOOP\n",
    "#By using the FOR Loop\n",
    "\n",
    "def fibonnaci2(n):\n",
    "    a,b=0,1\n",
    "    if n == 1:\n",
    "        print(a)\n",
    "    else:\n",
    "        print(a)\n",
    "        print(b)\n",
    "        for i in range(2,n):\n",
    "            c = a+b\n",
    "            a = b\n",
    "            b = c\n",
    "            print(c)\n",
    "fibonnaci2(8)"
   ]
  },
  {
   "cell_type": "code",
   "execution_count": 1,
   "metadata": {},
   "outputs": [
    {
     "name": "stdout",
     "output_type": "stream",
     "text": [
      "0\n",
      "1\n",
      "1\n",
      "2\n",
      "3\n",
      "5\n",
      "8\n",
      "13\n",
      "21\n"
     ]
    }
   ],
   "source": [
    "#PRINT FIBONACCI SERIES USING THE RECURSION\n",
    "\n",
    "def fibonacci8(n):\n",
    "    if n <= 1:\n",
    "        return n\n",
    "    else:\n",
    "        return fibonacci8(n-1) + fibonacci8(n-2)\n",
    "    \n",
    "n=int(input(\"Enter the value of the number upto which you want to print the Fibonacci Series: \"))\n",
    "if n <= 0:\n",
    "    print(\"Please enter the valid positive value greater than 0.\")\n",
    "else:\n",
    "    for i in range(n):\n",
    "        print(fibonacci8(i))"
   ]
  },
  {
   "cell_type": "code",
   "execution_count": 3,
   "metadata": {},
   "outputs": [
    {
     "name": "stdout",
     "output_type": "stream",
     "text": [
      "The number of prime numbers less than 10 is: 4\n"
     ]
    }
   ],
   "source": [
    "#Given an integer n, return the number of Prime Number that are strictly less than n\n",
    "\n",
    "def count_primes(n):\n",
    "    if n <= 2:\n",
    "        return 0\n",
    "    \n",
    "    # Initialize a list to mark non-prime numbers\n",
    "    is_prime = [True] * n\n",
    "    is_prime[0] = is_prime[1] = False  # 0 and 1 are not prime numbers\n",
    "    \n",
    "    for i in range(2, int(n ** 0.5) + 1):\n",
    "        if is_prime[i]:\n",
    "            for j in range(i * i, n, i):\n",
    "                is_prime[j] = False\n",
    "    \n",
    "    # Count the number of True values in is_prime\n",
    "    prime_count = sum(is_prime)\n",
    "    return prime_count\n",
    "\n",
    "# Example usage:\n",
    "n = 10\n",
    "print(f\"The number of prime numbers less than {n} is: {count_primes(n)}\")"
   ]
  },
  {
   "cell_type": "code",
   "execution_count": 48,
   "metadata": {},
   "outputs": [
    {
     "name": "stdout",
     "output_type": "stream",
     "text": [
      "28\n"
     ]
    }
   ],
   "source": [
    "def count_prime(n):\n",
    "    count = 0\n",
    "    for i in range(2,n):\n",
    "        for j in range(2, i//2+1):\n",
    "            if (i % j) == 0:\n",
    "                break\n",
    "        count += 1\n",
    "    return(count)\n",
    "\n",
    "print(count_prime(30))"
   ]
  },
  {
   "cell_type": "code",
   "execution_count": 51,
   "metadata": {},
   "outputs": [],
   "source": [
    "import math"
   ]
  },
  {
   "cell_type": "code",
   "execution_count": 55,
   "metadata": {},
   "outputs": [
    {
     "name": "stdout",
     "output_type": "stream",
     "text": [
      "3\n",
      "5\n",
      "7\n",
      "11\n",
      "13\n",
      "17\n",
      "19\n",
      "23\n",
      "29\n",
      "9\n"
     ]
    }
   ],
   "source": [
    "def count_prime(n):\n",
    "    count = 0\n",
    "    for i in range(2,n):\n",
    "        flag = True\n",
    "        \n",
    "        for j in range(2, i//2 + 1):\n",
    "            if (i % j) == 0:\n",
    "                flag = False\n",
    "                break\n",
    "\n",
    "        if flag:\n",
    "            count += 1\n",
    "            print(i)\n",
    "    return(count)\n",
    "\n",
    "print(count_prime(30))"
   ]
  },
  {
   "cell_type": "code",
   "execution_count": 41,
   "metadata": {},
   "outputs": [
    {
     "data": {
      "text/plain": [
       "True"
      ]
     },
     "execution_count": 41,
     "metadata": {},
     "output_type": "execute_result"
    }
   ],
   "source": [
    "def check_prime(n):\n",
    "    if n < 2:\n",
    "        return False\n",
    "    \n",
    "    for i in range(2, n//2+1):\n",
    "        if (n % i) == 0:\n",
    "            return False\n",
    "    return True\n",
    "    \n",
    "p = 3\n",
    "check_prime(p) \n",
    "    "
   ]
  },
  {
   "cell_type": "code",
   "execution_count": 56,
   "metadata": {},
   "outputs": [
    {
     "name": "stdout",
     "output_type": "stream",
     "text": [
      "False\n"
     ]
    }
   ],
   "source": [
    "def check_prime(n):\n",
    "    flag = True\n",
    "\n",
    "    if n<2:\n",
    "        flag=False \n",
    "    \n",
    "    for i in range(2, n//2+1):\n",
    "        if (n % i) == 0:\n",
    "            flag = False\n",
    "    \n",
    "    return flag\n",
    "    \n",
    "p = 4\n",
    "print(check_prime(p))\n",
    "    "
   ]
  },
  {
   "cell_type": "code",
   "execution_count": null,
   "metadata": {},
   "outputs": [],
   "source": [
    "from time import time\n",
    "from math import sqrt\n",
    "def count_primes_by_sqrt_method(n):\n",
    "    '''\n",
    "    Generates all the prime numbers from 2 to n - 1.\n",
    "    n - 1 is the largest potential prime considered.\n",
    "    '''\n",
    "    start = time()\n",
    "    count = 0\n",
    "    for val in range(2, n):\n",
    "        root = round(sqrt(val)) + 1\n",
    "        for trial_factor in range(2, root):\n",
    "            if val % trial_factor == 0:\n",
    "                break\n",
    "        else:\n",
    "            count += 1\n",
    "    stop = time()\n",
    "    print(\"Count =\", count, \"Elapsed time:\", stop - start, \"seconds\")"
   ]
  }
 ],
 "metadata": {
  "kernelspec": {
   "display_name": "Python 3",
   "language": "python",
   "name": "python3"
  },
  "language_info": {
   "codemirror_mode": {
    "name": "ipython",
    "version": 3
   },
   "file_extension": ".py",
   "mimetype": "text/x-python",
   "name": "python",
   "nbconvert_exporter": "python",
   "pygments_lexer": "ipython3",
   "version": "3.12.4"
  }
 },
 "nbformat": 4,
 "nbformat_minor": 2
}
