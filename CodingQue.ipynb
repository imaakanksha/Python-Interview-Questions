{
 "cells": [
  {
   "cell_type": "code",
   "execution_count": 2,
   "metadata": {},
   "outputs": [
    {
     "name": "stdout",
     "output_type": "stream",
     "text": [
      "Yes, it is a Palindrome.\n"
     ]
    }
   ],
   "source": [
    "#PALINDROME NUMBER \n",
    "#PALINDROME QUESTIONS FOR THE STRING USING THE SPLIT METHOD\n",
    "#A. By using the SPLIT METHOD\n",
    "def palindrome(s):\n",
    "    s=s.lower()\n",
    "    temp = s[::-1]\n",
    "    if s == temp:\n",
    "        print(\"Yes, it is a Palindrome.\")\n",
    "    else:\n",
    "        print(\"No, it is not Palindrome.\")\n",
    "s = input(\"Enter the value of the string for which we have to check it is Palindrome or not: \")\n",
    "palindrome(s)"
   ]
  },
  {
   "cell_type": "code",
   "execution_count": 4,
   "metadata": {},
   "outputs": [
    {
     "name": "stdout",
     "output_type": "stream",
     "text": [
      "True\n"
     ]
    }
   ],
   "source": [
    "#PALINDROME QUESTIONS FOR THE STRING USING THE INDEXING METHOD/ FOR LOOP MENTHOD\n",
    "#B. By using the INDEXING METHOD/ FOR LOOP METHOD\n",
    "\n",
    "def isPalindrome(s):\n",
    "    n=len(s)\n",
    "    for i in range(n):\n",
    "        if s[i] != s[n-i-1]:\n",
    "            return False\n",
    "    return True\n",
    "\n",
    "s=\"anitina\"\n",
    "print(isPalindrome(s))\n"
   ]
  },
  {
   "cell_type": "code",
   "execution_count": 10,
   "metadata": {},
   "outputs": [
    {
     "name": "stdout",
     "output_type": "stream",
     "text": [
      "No, it is not Palindrome.\n"
     ]
    }
   ],
   "source": [
    "#PALINDROME QUESTIONS FOR THE STRING USING THE INBUILT FUNCTION : REVERSED AND JOIN\n",
    "#C. By using the INBUILT FUNCTIONS - REVERSED AND JOIN FUNCTIONS\n",
    "\n",
    "def palindrome3(s):\n",
    "    #reverse_s=reversed(s)\n",
    "    #print(reverse_s)\n",
    "    ##for i in reverse_s:\n",
    "     #   print(i)\n",
    "    temp = ''.join(reversed(s))\n",
    "    if s == temp:\n",
    "        return True\n",
    "    else:\n",
    "        return False\n",
    "\n",
    "s=\"antina\"\n",
    "palindrome(s)"
   ]
  },
  {
   "cell_type": "code",
   "execution_count": 12,
   "metadata": {},
   "outputs": [
    {
     "data": {
      "text/plain": [
       "True"
      ]
     },
     "execution_count": 12,
     "metadata": {},
     "output_type": "execute_result"
    }
   ],
   "source": [
    "#D TO CHECK THE PALINDROME USING THE WHILE LOOP\n",
    "#By using the WHILE LOOP\n",
    "def palindrome4(s):\n",
    "    n = len(s)\n",
    "    first = 0\n",
    "    last = n-1\n",
    "    while(first<last):\n",
    "        if s[first] == s[last]:\n",
    "            first += 1\n",
    "            last -= 1\n",
    "        else:\n",
    "            return False\n",
    "    return True\n",
    "\n",
    "s=\"poiuuiop\"\n",
    "palindrome4(s)\n"
   ]
  },
  {
   "cell_type": "code",
   "execution_count": 14,
   "metadata": {},
   "outputs": [
    {
     "name": "stdout",
     "output_type": "stream",
     "text": [
      "False\n"
     ]
    }
   ],
   "source": [
    "# PALINDROEM NUMBER : INCASE OF NUMBERS\n",
    "# BY USING SPLIT METHOD - CONVERTING THE NUMBER IN THE STRING\n",
    "# DO NOT USE THIS METHOD IT IS NOT PREFERABLE\n",
    "def palindrome5(n):\n",
    "    s=str(n)\n",
    "    temp=s[::-1]\n",
    "    if s == temp:\n",
    "        return True\n",
    "    else:\n",
    "        return False\n",
    "    \n",
    "n = 123456\n",
    "print(palindrome5(n))"
   ]
  },
  {
   "cell_type": "code",
   "execution_count": 18,
   "metadata": {},
   "outputs": [
    {
     "name": "stdout",
     "output_type": "stream",
     "text": [
      "True\n"
     ]
    }
   ],
   "source": [
    "#PALINDROME NUMBER : BY USING THE WHILE LOOP\n",
    "def palindrome6(n):\n",
    "    temp = n #1456\n",
    "    rev_n=0\n",
    "    while (temp>0):\n",
    "        digit = temp % 10\n",
    "        #print(digit)\n",
    "        rev_n=rev_n*10+digit\n",
    "        #rev_n = 0*10 + 6 = 6\n",
    "        temp = temp // 10  #145\n",
    "    if n == rev_n:\n",
    "        return True\n",
    "    else:\n",
    "        return False\n",
    "    \n",
    "n=12345654321\n",
    "print(palindrome6(n))"
   ]
  },
  {
   "cell_type": "code",
   "execution_count": 20,
   "metadata": {},
   "outputs": [
    {
     "name": "stdout",
     "output_type": "stream",
     "text": [
      "False\n"
     ]
    }
   ],
   "source": [
    "#BEST WAY TO CHECK THE PALINDROEM NUMBER BY USING THE WHILE LOOP IN THE CASE OF NUMBERS\n",
    "def palindromeNum(num):\n",
    "    temp = num\n",
    "    rev_n=0\n",
    "    while(temp>0):\n",
    "        digit = temp % 10\n",
    "        rev_n = rev_n * 10 + digit\n",
    "        temp = temp // 10\n",
    "    if num == rev_n:\n",
    "        return True\n",
    "    else:\n",
    "        return False\n",
    "num = 34567\n",
    "print(palindromeNum(num))\n",
    "        "
   ]
  },
  {
   "cell_type": "code",
   "execution_count": 22,
   "metadata": {},
   "outputs": [
    {
     "name": "stdout",
     "output_type": "stream",
     "text": [
      "0\n",
      "1\n",
      "1\n",
      "2\n",
      "3\n",
      "5\n",
      "8\n",
      "13\n",
      "21\n",
      "34\n",
      "55\n",
      "89\n",
      "144\n"
     ]
    }
   ],
   "source": [
    "#FIBONACCI SERIES\n",
    "#Find the Fibonacci Series from 0 to nth number using While Loop\n",
    "#0,1,1,2,3,5,8,13,21............................\n",
    "#By using the While Loop\n",
    "def fibonnaci(n):\n",
    "    a,b=0,1\n",
    "    print(a)\n",
    "    while (b<n):\n",
    "        print(b)\n",
    "        c=a+b\n",
    "        a=b\n",
    "        b=c\n",
    "fibonnaci(150)"
   ]
  },
  {
   "cell_type": "code",
   "execution_count": 27,
   "metadata": {},
   "outputs": [
    {
     "name": "stdout",
     "output_type": "stream",
     "text": [
      "0\n",
      "1\n",
      "1\n",
      "2\n",
      "3\n",
      "5\n",
      "8\n",
      "13\n",
      "21\n",
      "34\n",
      "55\n",
      "89\n",
      "144\n"
     ]
    }
   ],
   "source": [
    "#Print the Fibonnaci Series withoud using the 3rd Variable\n",
    "def fibonnaci(num):\n",
    "    a,b=0,1\n",
    "    print(a)\n",
    "    while(b<num):\n",
    "        print(b)\n",
    "        a,b = b, a+b\n",
    "fibonnaci(200)"
   ]
  },
  {
   "cell_type": "code",
   "execution_count": 36,
   "metadata": {},
   "outputs": [
    {
     "name": "stdout",
     "output_type": "stream",
     "text": [
      "0\n",
      "1\n",
      "1\n",
      "2\n",
      "3\n",
      "5\n",
      "8\n",
      "13\n"
     ]
    }
   ],
   "source": [
    "#PRINT FIBONNACI SERIES BY USING THE FOR LOOP\n",
    "#By using the FOR Loop\n",
    "\n",
    "def fibonnaci2(n):\n",
    "    a,b=0,1\n",
    "    if n == 1:\n",
    "        print(a)\n",
    "    else:\n",
    "        print(a)\n",
    "        print(b)\n",
    "        for i in range(2,n):\n",
    "            c = a+b\n",
    "            a = b\n",
    "            b = c\n",
    "            print(c)\n",
    "fibonnaci2(8)"
   ]
  },
  {
   "cell_type": "code",
   "execution_count": 1,
   "metadata": {},
   "outputs": [
    {
     "name": "stdout",
     "output_type": "stream",
     "text": [
      "0\n",
      "1\n",
      "1\n",
      "2\n",
      "3\n",
      "5\n",
      "8\n",
      "13\n",
      "21\n"
     ]
    }
   ],
   "source": [
    "#PRINT FIBONACCI SERIES USING THE RECURSION (BEST APPROACH TO FIND THE FIBONACCI SERIES)\n",
    "\n",
    "def fibonacci8(n):\n",
    "    if n <= 1:\n",
    "        return n\n",
    "    else:\n",
    "        return fibonacci8(n-1) + fibonacci8(n-2)\n",
    "    \n",
    "n=int(input(\"Enter the value of the number upto which you want to print the Fibonacci Series: \"))\n",
    "if n <= 0:\n",
    "    print(\"Please enter the valid positive value greater than 0.\")\n",
    "else:\n",
    "    for i in range(n):\n",
    "        print(fibonacci8(i))"
   ]
  },
  {
   "cell_type": "code",
   "execution_count": 3,
   "metadata": {},
   "outputs": [
    {
     "name": "stdout",
     "output_type": "stream",
     "text": [
      "The number of prime numbers less than 10 is: 4\n"
     ]
    }
   ],
   "source": [
    "#Given an integer n, return the number of Prime Number that are strictly less than n\n",
    "\n",
    "def count_primes(n):\n",
    "    if n <= 2:\n",
    "        return 0\n",
    "    \n",
    "    # Initialize a list to mark non-prime numbers\n",
    "    is_prime = [True] * n\n",
    "    is_prime[0] = is_prime[1] = False  # 0 and 1 are not prime numbers\n",
    "    \n",
    "    for i in range(2, int(n ** 0.5) + 1):\n",
    "        if is_prime[i]:\n",
    "            for j in range(i * i, n, i):\n",
    "                is_prime[j] = False\n",
    "    \n",
    "    # Count the number of True values in is_prime\n",
    "    prime_count = sum(is_prime)\n",
    "    return prime_count\n",
    "\n",
    "# Example usage:\n",
    "n = 10\n",
    "print(f\"The number of prime numbers less than {n} is: {count_primes(n)}\")"
   ]
  },
  {
   "cell_type": "code",
   "execution_count": 48,
   "metadata": {},
   "outputs": [
    {
     "name": "stdout",
     "output_type": "stream",
     "text": [
      "28\n"
     ]
    }
   ],
   "source": [
    "#PRIME NUMBER : TO FIND THE TOTAL COUNT OF THE PRIME NUMBER WHICH IS PRESENT IN THE NUMBER LESS THAN THE GIVEN NUMBER N\n",
    "#Given an integer n, return the number of Prime Number that are strictly less than n\n",
    "def count_prime(n):\n",
    "    count = 0\n",
    "    for i in range(2,n):\n",
    "        for j in range(2, i//2+1):\n",
    "            if (i % j) == 0:\n",
    "                break\n",
    "        count += 1\n",
    "    return(count)\n",
    "\n",
    "print(count_prime(30))"
   ]
  },
  {
   "cell_type": "code",
   "execution_count": 51,
   "metadata": {},
   "outputs": [],
   "source": [
    "import math"
   ]
  },
  {
   "cell_type": "code",
   "execution_count": 55,
   "metadata": {},
   "outputs": [
    {
     "name": "stdout",
     "output_type": "stream",
     "text": [
      "3\n",
      "5\n",
      "7\n",
      "11\n",
      "13\n",
      "17\n",
      "19\n",
      "23\n",
      "29\n",
      "9\n"
     ]
    }
   ],
   "source": [
    "#2ND WAY TO FIND THE COUNT OF THE PRIME NUMBER BY USING THE FLAG METHOD AND ALSO PRINT ALL THE PRIME NUMBER\n",
    "def count_prime(n):\n",
    "    count = 0\n",
    "    for i in range(2,n):\n",
    "        flag = True\n",
    "        \n",
    "        for j in range(2, i//2 + 1):\n",
    "            if (i % j) == 0:\n",
    "                flag = False\n",
    "                break\n",
    "\n",
    "        if flag:\n",
    "            count += 1\n",
    "            print(i)\n",
    "    return(count)\n",
    "\n",
    "print(count_prime(30))"
   ]
  },
  {
   "cell_type": "code",
   "execution_count": 41,
   "metadata": {},
   "outputs": [
    {
     "data": {
      "text/plain": [
       "True"
      ]
     },
     "execution_count": 41,
     "metadata": {},
     "output_type": "execute_result"
    }
   ],
   "source": [
    "#PRIME NUMBER: TO CHECK IF THE GIVEN NUMBER IS PRIME OR NOT\n",
    "def check_prime(n):\n",
    "    if n < 2:\n",
    "        return False\n",
    "    \n",
    "    for i in range(2, n//2+1):\n",
    "        if (n % i) == 0:\n",
    "            return False\n",
    "    return True\n",
    "    \n",
    "p = 3\n",
    "check_prime(p) \n",
    "    "
   ]
  },
  {
   "cell_type": "code",
   "execution_count": 56,
   "metadata": {},
   "outputs": [
    {
     "name": "stdout",
     "output_type": "stream",
     "text": [
      "False\n"
     ]
    }
   ],
   "source": [
    "#PRIME NUMBER: 2ND WAY TO CHECK IF THE GIVEN NUMBER IS PRIME OR NOT\n",
    "def check_prime(n):\n",
    "    flag = True\n",
    "\n",
    "    if n<2:\n",
    "        flag=False \n",
    "    \n",
    "    for i in range(2, n//2+1):\n",
    "        if (n % i) == 0:\n",
    "            flag = False\n",
    "    \n",
    "    return flag\n",
    "    \n",
    "p = 4\n",
    "print(check_prime(p))\n",
    "    "
   ]
  },
  {
   "cell_type": "code",
   "execution_count": 5,
   "metadata": {},
   "outputs": [
    {
     "name": "stdout",
     "output_type": "stream",
     "text": [
      "Count = 4 Elapsed time: 0.0 seconds\n"
     ]
    }
   ],
   "source": [
    "#PRIME NUMBER: BEST WAY TO FIND THE COUNT OF THE PRIME NUMBER TILL THE GIVEN VALUE OF N\n",
    "from time import time\n",
    "from math import sqrt\n",
    "def count_primes_by_sqrt_method(n):\n",
    "    '''\n",
    "    Generates all the prime numbers from 2 to n - 1.\n",
    "    n - 1 is the largest potential prime considered.\n",
    "    '''\n",
    "    start = time()\n",
    "    count = 0\n",
    "    for val in range(2, n):\n",
    "        root = round(sqrt(val)) + 1\n",
    "        for trial_factor in range(2, root):\n",
    "            if val % trial_factor == 0:\n",
    "                break\n",
    "        else:\n",
    "            count += 1\n",
    "    stop = time()\n",
    "    print(\"Count =\", count, \"Elapsed time:\", stop - start, \"seconds\")\n",
    "\n",
    "count_primes_by_sqrt_method(10)\n"
   ]
  },
  {
   "cell_type": "code",
   "execution_count": 10,
   "metadata": {},
   "outputs": [
    {
     "name": "stdout",
     "output_type": "stream",
     "text": [
      "a2b2c2a4f3e1i5\n"
     ]
    }
   ],
   "source": [
    "#COMPRESS STRING CODING PROBLEMS\n",
    "#WRITE THE PYTHON CODE TO COMPRESS THE STIRNG AND GENERATE THE OUTPUT STRING FROM THE INPUT STRING\n",
    "# aabbccddeeee = a2b2c2d2e4\n",
    "\n",
    "# Input : aabbccaaaafffeiii\n",
    "# Output : a2b2c2a4f3e1i3\n",
    "#BY USING THE FOR LOOP (BEST APPROACH FOR COMPRESS STRING FORMAT)\n",
    "\n",
    "def compress(s):\n",
    "    n = len(s)\n",
    "    new_s=''\n",
    "    count = 1\n",
    "    for i in range(n-1):\n",
    "        if s[i]==s[i+1]:\n",
    "            count+=1\n",
    "        else:\n",
    "            new_s=new_s + s[i] +str(count)\n",
    "            #nes_s += (s[i]+str(count))\n",
    "            count = 1\n",
    "    new_s = new_s + s[n-1] +str(count)\n",
    "    return new_s\n",
    "\n",
    "s='aabbccaaaafffeiiiii'\n",
    "print(compress(s))"
   ]
  },
  {
   "cell_type": "code",
   "execution_count": 12,
   "metadata": {},
   "outputs": [
    {
     "name": "stdout",
     "output_type": "stream",
     "text": [
      "a2b3c4d6r1e3f4i2\n"
     ]
    }
   ],
   "source": [
    "#COMPRESS STRING BY THE USE OF WHILE LOOP\n",
    "def compress2(s):\n",
    "    n=len(s)\n",
    "    i = 0\n",
    "    new_s = ''\n",
    "    while(i < n-1):\n",
    "        count=1\n",
    "        while(i<(n-1) and s[i]==s[i+1]):\n",
    "            count+=1\n",
    "            i+=1\n",
    "        i+=1\n",
    "        new_s = new_s + s[i-1] + str(count)\n",
    "    return new_s\n",
    "s = 'aabbbccccddddddreeeffffii'\n",
    "print(compress2(s))"
   ]
  },
  {
   "cell_type": "code",
   "execution_count": 26,
   "metadata": {},
   "outputs": [
    {
     "name": "stdout",
     "output_type": "stream",
     "text": [
      "1\n",
      "2\n",
      "Fizz\n",
      "4\n",
      "Buzz\n",
      "Fizz\n",
      "7\n",
      "8\n",
      "Fizz\n",
      "Buzz\n",
      "11\n",
      "Fizz\n",
      "13\n",
      "14\n",
      "Fizz\n",
      "16\n",
      "17\n",
      "Fizz\n",
      "18\n"
     ]
    }
   ],
   "source": [
    "#FIZZBUZZ PROBLEM\n",
    "#IF NUMBER DIVISIBLE BY 3 = PRINT Fizz\n",
    "#IF NUMBER DIVISIBLE BY 5 = PRINT Buzz\n",
    "#IF NUMBER DIVISIBLE BY 15 - PRINT FizzBuzz\n",
    "#ELSE PRINT THE NUMBER\n",
    "# 15* = FizzBuzz\n",
    "# 3* = Fizz\n",
    "# 5* = Buzz\n",
    "# 1 = 1\n",
    "# 2 = 2\n",
    "# 3 = Fizz\n",
    "# 4 = 4\n",
    "# 5 = Buzz\n",
    "# 6 = Fizz\n",
    "#....................\n",
    "# 15 = FizzBuzz\n",
    "\n",
    "def fizzbuzz(n):\n",
    "    for i in range(1,n):\n",
    "        if i % 3 == 0:\n",
    "            print('Fizz')\n",
    "        elif i % 5 == 0:\n",
    "            print('Buzz')\n",
    "        elif i % 3 == 0 and i % 5 ==0:\n",
    "            print('FizzBuzz')\n",
    "        else:\n",
    "            print(i)\n",
    "    return i\n",
    "print(fizzbuzz(19))"
   ]
  },
  {
   "cell_type": "code",
   "execution_count": 28,
   "metadata": {},
   "outputs": [
    {
     "name": "stdout",
     "output_type": "stream",
     "text": [
      "1\n",
      "2\n",
      "Fizz\n",
      "4\n",
      "Buzz\n",
      "Fizz\n",
      "7\n",
      "8\n",
      "Fizz\n",
      "Buzz\n",
      "11\n",
      "Fizz\n",
      "13\n",
      "14\n",
      "Fizz\n",
      "16\n",
      "17\n",
      "Fizz\n",
      "19\n"
     ]
    },
    {
     "data": {
      "text/plain": [
       "19"
      ]
     },
     "execution_count": 28,
     "metadata": {},
     "output_type": "execute_result"
    }
   ],
   "source": [
    "# FIZZBUZZ PROBLEM BY USING THE FOR LOOP (Best Approach)\n",
    "def fizzbuzz2(n):\n",
    "    for i in range(1,n+1):\n",
    "        if i % 3 == 0 and i % 5 == 0:\n",
    "            print('FizzBuzz')\n",
    "        elif i % 3 == 0:\n",
    "            print(\"Fizz\")\n",
    "        elif i % 5 == 0:\n",
    "            print(\"Buzz\")\n",
    "        else:\n",
    "            print(i)\n",
    "fizzbuzz(20)"
   ]
  },
  {
   "cell_type": "code",
   "execution_count": 31,
   "metadata": {},
   "outputs": [
    {
     "name": "stdout",
     "output_type": "stream",
     "text": [
      "1\n",
      "2\n",
      "Fizz\n",
      "4\n",
      "Buzz\n",
      "Fizz\n",
      "7\n",
      "8\n",
      "Fizz\n",
      "Buzz\n",
      "11\n",
      "Fizz\n",
      "13\n",
      "14\n",
      "FizzBuzz\n",
      "16\n",
      "17\n",
      "Fizz\n",
      "19\n",
      "Buzz\n"
     ]
    }
   ],
   "source": [
    "# FIZZBUZZ PROBLEM USING DICTIONARY\n",
    "def fizzbuzz3(n):\n",
    "    dic = {3:'Fizz', 5:'Buzz'}\n",
    "    for i in range(1, n+1):\n",
    "        result=''\n",
    "        for key, value in dic.items():\n",
    "            if i % key ==0:\n",
    "                result += value\n",
    "        if not result:\n",
    "            result = i\n",
    "        print(result)\n",
    "\n",
    "fizzbuzz3(20)\n"
   ]
  },
  {
   "cell_type": "code",
   "execution_count": 33,
   "metadata": {},
   "outputs": [
    {
     "name": "stdout",
     "output_type": "stream",
     "text": [
      "{'f': 13, 's': 17, 'd': 14, 'e': 6, 'r': 8, 'a': 1, 'w': 2}\n",
      "a\n"
     ]
    }
   ],
   "source": [
    "# CHARACTER OCCURANCE (BELOW ARE 3 TYPES OF PROBLEMS)\n",
    "#1. LEAST REPEATING CHARACTER IN A STRING\n",
    "#2. COUNT OF ANY PARTICULAR ELEMENT\n",
    "#3. COUNT OF ALL THE ELEMENTS OF THE LIST\n",
    "\n",
    "#1. LEAST REPEATING CHARACTER IN A STRING (Best Solution)\n",
    "def least_char_occurance(s):\n",
    "    ch={}\n",
    "    for i in s:\n",
    "        if i in ch:\n",
    "            ch[i] = ch[i]+1\n",
    "        else:\n",
    "            ch[i]=1\n",
    "    print(ch)\n",
    "    result=min(ch, key=ch.get)\n",
    "    print(result)\n",
    "\n",
    "s = 'fsdfererdfsdddddddddddssssssssssssffffffereaerrfdsfrwrsfsfwer'\n",
    "least_char_occurance(s)"
   ]
  },
  {
   "cell_type": "code",
   "execution_count": 36,
   "metadata": {},
   "outputs": [
    {
     "name": "stdout",
     "output_type": "stream",
     "text": [
      "The least repeating character in the upper string: s\n"
     ]
    }
   ],
   "source": [
    "# CHARACTER OCCURANCE\n",
    "#LEAST REPEATING CHARACTER IN A STRING 2nd Way\n",
    "# BY USING INBUILT FUNCTION COUNTER\n",
    "from collections import Counter\n",
    "s='trtgyryttrreettttttttttttfsdfrfregtrgergthyhjuytfujhy'\n",
    "ch=Counter(s)\n",
    "result=min(ch, key = ch.get)\n",
    "print(\"The least repeating character in the upper string:\",result)"
   ]
  },
  {
   "cell_type": "code",
   "execution_count": 41,
   "metadata": {},
   "outputs": [
    {
     "name": "stdout",
     "output_type": "stream",
     "text": [
      "The count of the 5 in list is; 10\n",
      "The count of the value of g in the string: 18\n"
     ]
    }
   ],
   "source": [
    "# CHARACTER OCCURANCE \n",
    "#2. COUNT OF ANY PARTICULAR ELEMENT\n",
    "#BY USING THE COUNT(FOR STRING, NUMBER, LIST)\n",
    "lst=[1,2,3,4,5,6,5,5,5,5,5,5,5,5,5,6]\n",
    "print(\"The count of the 5 in list is:\",lst.count(5))\n",
    "\n",
    "s= 'erewrggggggggggggrttttttttttttestrdfgggggg'\n",
    "print(\"The count of the value of g in the string:\",s.count('g'))"
   ]
  },
  {
   "cell_type": "code",
   "execution_count": 45,
   "metadata": {},
   "outputs": [
    {
     "name": "stdout",
     "output_type": "stream",
     "text": [
      "14\n"
     ]
    }
   ],
   "source": [
    "# CHARACTER OCCURANCE \n",
    "#2. COUNT OF ANY PARTICULAR ELEMENT\n",
    "#WITHOUT USING COUNT/ AND BY USING THE DICT METHOD\n",
    "def count_char_occurence(s, search_ch):\n",
    "    ch={}\n",
    "    for i in s:\n",
    "        if i in ch:\n",
    "            ch[i] = ch[i]+1\n",
    "        else:\n",
    "            ch[i]=1\n",
    "    print(ch[search_ch])\n",
    "\n",
    "s = 'sfsereeeeeeeeeeefgsdgsertehgrtt'\n",
    "count_char_occurence(s,'e')\n"
   ]
  },
  {
   "cell_type": "code",
   "execution_count": 49,
   "metadata": {},
   "outputs": [
    {
     "name": "stdout",
     "output_type": "stream",
     "text": [
      "{'f': 2, 's': 1, 'e': 3, 'r': 20, 'g': 2, 't': 2}\n",
      "0\n"
     ]
    }
   ],
   "source": [
    "# CHARACTER OCCURANCE \n",
    "#2. COUNT OF ANY PARTICULAR ELEMENT\n",
    "#WITHOUT USING COUNT/ AND BY USING THE DICT METHOD\n",
    "#IN THE ABOVE PROGRAM WE ARE GETTING ERROR ON ENTERING THE CHARACTER WHICH IS NOT PRESENT IN THE STRING, WE NEED TO APPLY TRY CATCH TO RESOLVE THIS ERROR\n",
    "\n",
    "def count_char_occurence(s, search_ch):\n",
    "    ch={}\n",
    "    for i in s:\n",
    "        if i in ch:\n",
    "            ch[i] += 1\n",
    "        else:\n",
    "            ch[i] = 1\n",
    "    print(ch)\n",
    "    try:\n",
    "        print(ch[search_ch])\n",
    "    except:\n",
    "        print(0)\n",
    "s='fserrrrrrrrgrrrrrrrrrrrgrtetef'\n",
    "count_char_occurence(s, 'a')"
   ]
  },
  {
   "cell_type": "code",
   "execution_count": 52,
   "metadata": {},
   "outputs": [
    {
     "name": "stdout",
     "output_type": "stream",
     "text": [
      "The count of all the occurance of the elements: \n",
      "{'f': 13, 's': 17, 'd': 14, 'e': 6, 'r': 8, 'a': 1, 'w': 2}\n"
     ]
    }
   ],
   "source": [
    "# CHARACTER OCCURANCE \n",
    "#TO COUNT ALL THE OCCURANCE OF ALL THE ELEMENTS IN THE STRING\n",
    "def count_all_occurance(s):\n",
    "    ch={}\n",
    "    for i in s:\n",
    "        if i in ch:\n",
    "            ch[i] = ch[i]+1\n",
    "        else:\n",
    "            ch[i]=1\n",
    "    print(ch)\n",
    "    \n",
    "print(\"The count of all the occurance of the elements: \")\n",
    "s = 'fsdfererdfsdddddddddddssssssssssssffffffereaerrfdsfrwrsfsfwer'\n",
    "count_all_occurance(s)\n"
   ]
  },
  {
   "cell_type": "code",
   "execution_count": 58,
   "metadata": {},
   "outputs": [
    {
     "name": "stdout",
     "output_type": "stream",
     "text": [
      "No! It is not a Prime Number.\n"
     ]
    }
   ],
   "source": [
    "#PRIME NUMBER\n",
    "#1. TO CHECK IF THE NUMBER IS A PRIME NUMBER OR NOT\n",
    "# USING FLAG\n",
    "\n",
    "def prime_number(n):\n",
    "    flag = False\n",
    "    if n>1:\n",
    "        for i in range(2,n//2+1):\n",
    "            if n % i == 0:\n",
    "                flag = True\n",
    "                break\n",
    "    if flag:\n",
    "        return \"No! It is not a Prime Number.\"\n",
    "    else:\n",
    "        return \"Yes! It is a Prime Number.\"\n",
    "\n",
    "print(prime_number(4))"
   ]
  },
  {
   "cell_type": "code",
   "execution_count": 62,
   "metadata": {},
   "outputs": [
    {
     "name": "stdout",
     "output_type": "stream",
     "text": [
      "Yes! It is a Prime Number\n",
      "None\n"
     ]
    }
   ],
   "source": [
    "#PRIME NUMBER\n",
    "#1. TO CHECK IF THE NUMBER IS A PRIME NUMBER OR NOT\n",
    "# 2. USING FOR-ELSE (IT IS CONSIDERED AS THE BEST APPROACH FOR SOLVING THIS PRIME NUMBER PROBLEM.)\n",
    "\n",
    "def isPrime(n):\n",
    "    if n>1:\n",
    "        for i in range(2,n//2+1):\n",
    "            if n%i == 0:\n",
    "                print(\"No! It is not a Prime Number.\")\n",
    "                break\n",
    "        else:\n",
    "            print(\"Yes! It is a Prime Number\")\n",
    "    else:\n",
    "        print(\"No! It is not a Prime Number.\")\n",
    "\n",
    "print(isPrime(13))"
   ]
  },
  {
   "cell_type": "code",
   "execution_count": 72,
   "metadata": {},
   "outputs": [
    {
     "name": "stdout",
     "output_type": "stream",
     "text": [
      "13\n",
      "17\n",
      "19\n",
      "23\n",
      "29\n",
      "31\n",
      "37\n",
      "41\n",
      "43\n",
      "47\n",
      "53\n",
      "59\n",
      "61\n",
      "67\n",
      "71\n",
      "73\n",
      "79\n",
      "83\n",
      "89\n",
      "97\n",
      "None\n"
     ]
    }
   ],
   "source": [
    "#PRIME NUMBER\n",
    "#DISPLAY ALL THE PRIME NUMBERS WITHIN AN INTERVAL\n",
    "# USING FOR - ELSE - [BEST]\n",
    "def prime_number3(start, end):\n",
    "    for n in range(start,end):\n",
    "        if n > 1:\n",
    "            for i in range(2, n//2+1):\n",
    "                if n%i == 0:\n",
    "                    break\n",
    "            else:\n",
    "                print(n)\n",
    "#prime_number3(13,100)\n",
    "print(prime_number3(13,100))"
   ]
  },
  {
   "cell_type": "code",
   "execution_count": 6,
   "metadata": {},
   "outputs": [
    {
     "name": "stdout",
     "output_type": "stream",
     "text": [
      "['tHIS', 'iS', 'a', 'gOOD', 'mORNING']\n",
      "tHIS.iS.a.gOOD.mORNING\n"
     ]
    }
   ],
   "source": [
    "#MODIFY STRING FORMAT\n",
    "# STRING MANUPULATION\n",
    "# Input = I_Am_A_Coder\n",
    "# Output = i.aM.a.cODER\n",
    "\n",
    "#Input = This_Is_A_Good_Morning\n",
    "#Output= tHIS.iS.a.gOOD.mORNING\n",
    "\n",
    "#changes:\n",
    "# _ = .\n",
    "#first_upper_letter = first_lower_letter\n",
    "# remaining_lower_letter = remaining_upper_letter\n",
    "\n",
    "#BY USING LIST\n",
    "\n",
    "def string_format(s):\n",
    "    l=[]\n",
    "    temp = s.split('_')\n",
    "    for i in temp:\n",
    "        l.append(i[0].lower() + i[1:].upper())\n",
    "    print(l)\n",
    "    s='.'.join(l)\n",
    "    print(s)\n",
    "s=\"This_Is_A_Good_Morning\"\n",
    "string_format(s)\n"
   ]
  },
  {
   "cell_type": "code",
   "execution_count": 8,
   "metadata": {},
   "outputs": [
    {
     "name": "stdout",
     "output_type": "stream",
     "text": [
      "tHIS.iS.a.gOOD.mORNING\n"
     ]
    }
   ],
   "source": [
    "#MODIFY STRING FORMAT\n",
    "# STRING MANUPULATION\n",
    "# STRING MANIPULATION USING STRING\n",
    "def string_format(s):\n",
    "    new_s=''\n",
    "    temp=s.split('_')\n",
    "    for i in temp:\n",
    "        new_s = new_s + i[0].lower() + i[1:].upper() + '.'\n",
    "    new_s = new_s[:-1]\n",
    "    print(new_s)\n",
    "\n",
    "s = \"This_Is_A_Good_Morning\"\n",
    "string_format(s)  "
   ]
  },
  {
   "cell_type": "code",
   "execution_count": 12,
   "metadata": {},
   "outputs": [
    {
     "name": "stdout",
     "output_type": "stream",
     "text": [
      "The value of the second largest number is: 98\n"
     ]
    }
   ],
   "source": [
    "#SECOND LARGEST NUMBER\n",
    "# TO FIND THE SECOND LARGEST NUMBER FROM A PARTICULAR LIST\n",
    "#1. USING FOR LOOP\n",
    "#2. USING REVERSE SORT\n",
    "#3. USING SET AND MAX()\n",
    "\n",
    "#1. USING THE FOR LOOP\n",
    "# ASSUMING THE LIST WILL BE MORE THAN 2 NUMBERS\n",
    "\n",
    "def second_highest_number(n):\n",
    "    if n[0]>n[1]:\n",
    "        first = n[0]\n",
    "        second = n[1]\n",
    "    else:\n",
    "        first = n[1]\n",
    "        second = n[0]\n",
    "\n",
    "    for i in range(2, len(n)):\n",
    "        if n[i] > first:\n",
    "            second = first\n",
    "            first = n[i]\n",
    "        elif n[i]>second and first != n[i]:\n",
    "            second=n[i]\n",
    "    return second\n",
    "\n",
    "l=[10,60,78,98,100,43,89,23,54,45]\n",
    "print(\"The value of the second largest number is:\",second_highest_number(l))"
   ]
  },
  {
   "cell_type": "code",
   "execution_count": 17,
   "metadata": {},
   "outputs": [
    {
     "name": "stdout",
     "output_type": "stream",
     "text": [
      "98\n"
     ]
    }
   ],
   "source": [
    "#SECOND LARGEST NUMBER\n",
    "# TO FIND THE SECOND LARGEST NUMBER FROM A PARTICULAR LIST\n",
    "# USING REVERSE SORT\n",
    "\n",
    "def second_highest_number_using_sort(l):\n",
    "    l.sort()\n",
    "    print(l[-2])\n",
    "\n",
    "l=[10,60,78,98,100,43,89,23,54,45]\n",
    "\n",
    "second_highest_number_using_sort(l)\n",
    "#print(\"Second Largest Number:\",second_highest_number_using_sort(l))"
   ]
  },
  {
   "cell_type": "code",
   "execution_count": 28,
   "metadata": {},
   "outputs": [
    {
     "name": "stdout",
     "output_type": "stream",
     "text": [
      "60\n",
      "60\n",
      "Second Largest Number: None\n"
     ]
    }
   ],
   "source": [
    "#SECOND LARGEST NUMBER\n",
    "# TO FIND THE SECOND LARGEST NUMBER FROM A PARTICULAR LIST\n",
    "# USING REVERSE SORT for nth\n",
    "#  FIND NTH HIGHTEST\n",
    "def nth_highest(l, n):\n",
    "    l.sort(reverse=True)\n",
    "    print(l[n-1])\n",
    "\n",
    "l=[10,60,78,98,100,43,89,23,54,45]\n",
    "\n",
    "nth_highest(l, 5)\n",
    "print(\"Second Largest Number:\",nth_highest(l, 5))"
   ]
  },
  {
   "cell_type": "code",
   "execution_count": 30,
   "metadata": {},
   "outputs": [
    {
     "name": "stdout",
     "output_type": "stream",
     "text": [
      "{67, 4, 26, 73, 10, 50, 20, 23, 54, 87, 90, 30}\n",
      "{67, 4, 26, 73, 10, 50, 20, 23, 54, 87, 30}\n",
      "87\n"
     ]
    }
   ],
   "source": [
    "#SECOND LARGEST NUMBER\n",
    "# TO FIND THE SECOND LARGEST NUMBER FROM A PARTICULAR LIST\n",
    "#USING SER AND MAX()\n",
    "l = [10,20,4,30,50,90,87,67,90,23,54,26,73]\n",
    "new_l=set(l)\n",
    "print(new_l)\n",
    "new_l.remove(max(new_l))\n",
    "print(new_l)\n",
    "print(max(new_l))\n"
   ]
  },
  {
   "cell_type": "code",
   "execution_count": 35,
   "metadata": {},
   "outputs": [
    {
     "name": "stdout",
     "output_type": "stream",
     "text": [
      "Yes!, it is an Armstrong Number.\n"
     ]
    }
   ],
   "source": [
    "#ARMSTRONG NUMBER\n",
    "# A number that is equal to the sum of cubes of its digits\n",
    "# 153 = 1*1*1 + 5*5*5 + 3*3*3 = 153\n",
    "\n",
    "def armstrong(n):\n",
    "    sum=0\n",
    "    temp=n\n",
    "    while temp>0:\n",
    "        digit = temp%10\n",
    "        sum = sum + (digit ** 3)\n",
    "        temp = temp//10\n",
    "    \n",
    "    if n == sum:\n",
    "        print(\"Yes!, it is an Armstrong Number.\")\n",
    "    else:\n",
    "        print(\"No, it is not an Armstrong Number.\")\n",
    "\n",
    "n=371\n",
    "armstrong(n)"
   ]
  },
  {
   "cell_type": "code",
   "execution_count": 37,
   "metadata": {},
   "outputs": [
    {
     "name": "stdout",
     "output_type": "stream",
     "text": [
      "0\n",
      "1\n",
      "153\n",
      "370\n",
      "371\n",
      "407\n"
     ]
    }
   ],
   "source": [
    "#ARMSTRONG NUMBER\n",
    "#Print list of Armstrong Number for a Particular Interval.\n",
    "\n",
    "def armstrong(start,end):\n",
    "    for n in range(start, end):\n",
    "        sum=0\n",
    "        temp=n\n",
    "        while temp > 0:\n",
    "            digit = temp % 10\n",
    "            sum = sum + (digit**3)\n",
    "            temp = temp//10\n",
    "        \n",
    "        if n == sum:\n",
    "            print(n)\n",
    "\n",
    "armstrong(0,500)"
   ]
  },
  {
   "cell_type": "code",
   "execution_count": 39,
   "metadata": {},
   "outputs": [
    {
     "name": "stdout",
     "output_type": "stream",
     "text": [
      "Sum of the Digit:\n",
      "20\n"
     ]
    }
   ],
   "source": [
    "#SUM OF DIGIT PROGRAM\n",
    "def sum_of_digit(n):\n",
    "    sum=0\n",
    "    temp=n\n",
    "    if n>9:\n",
    "        while temp > 0:\n",
    "            digit = temp%10\n",
    "            sum = sum+digit\n",
    "            temp = temp//10\n",
    "    else:\n",
    "        sum = n\n",
    "    return sum\n",
    "\n",
    "print(\"Sum of the Digit:\")\n",
    "print(sum_of_digit(1234532))"
   ]
  },
  {
   "cell_type": "code",
   "execution_count": 41,
   "metadata": {},
   "outputs": [
    {
     "name": "stdout",
     "output_type": "stream",
     "text": [
      "120\n",
      "720\n"
     ]
    }
   ],
   "source": [
    "#FACTROIAL NUMBER\n",
    "#USING FOR LOOP\n",
    "#2ND CASE = 145! = 1! + 4! + 5! = 1 + 24 + 120 = 145\n",
    "#PRINT NUMBER FROM 1 TO 1 LAKH WHERE THE 'SUMMATION' OF THE \"FACTORIAL OF EACH DIGIT\" EQUALS TO THE \"ACTUAL NUMBER\"\n",
    "#FOR EXAMPLE \n",
    "# 145! = 1! + 4! + 5! = 1 + 24 + 120 = 145\n",
    "\n",
    "#TO FIND THE FACTORIAL OF THE GIVEN NUMBER\n",
    "def factorial(n):\n",
    "    facto=1\n",
    "    for i in range(1, n+1):\n",
    "        facto = facto * i  #facto *= i\n",
    "    return facto\n",
    "\n",
    "print(factorial(5))\n",
    "print(factorial(6))\n"
   ]
  },
  {
   "cell_type": "code",
   "execution_count": 43,
   "metadata": {},
   "outputs": [
    {
     "name": "stdout",
     "output_type": "stream",
     "text": [
      "Yes\n"
     ]
    }
   ],
   "source": [
    "#FACTROIAL NUMBER\n",
    "#USING FOR LOOP\n",
    "#2ND CASE = 145! = 1! + 4! + 5! = 1 + 24 + 120 = 145\n",
    "#TO CHECK IF THE GIVEN NUMBER FOLLOWS THE ABOVE MENTIONED CASE OR NOT\n",
    "def sum_of_facto(n):\n",
    "    temp=n\n",
    "    sum=0\n",
    "    while (temp>0):\n",
    "        digit = temp % 10\n",
    "        temp = temp //10\n",
    "        facto = factorial(digit)\n",
    "        sum = sum + facto\n",
    "    if sum == n:\n",
    "        print('Yes')\n",
    "    else:\n",
    "        print('No')\n",
    "\n",
    "sum_of_facto(145)"
   ]
  },
  {
   "cell_type": "code",
   "execution_count": 3,
   "metadata": {},
   "outputs": [
    {
     "name": "stdout",
     "output_type": "stream",
     "text": [
      "The List of numbers that follows the case within interval\n",
      "1\n",
      "2\n",
      "145\n",
      "40585\n"
     ]
    }
   ],
   "source": [
    "#FACTROIAL NUMBER\n",
    "#USING FOR LOOP\n",
    "#2ND CASE = 145! = 1! + 4! + 5! = 1 + 24 + 120 = 145\n",
    "#PRINT NUMBER FROM 1 TO 1 LAKH WHERE THE 'SUMMATION' OF THE \"FACTORIAL OF EACH DIGIT\" EQUALS TO THE \"ACTUAL NUMBER\"\n",
    "#PRINT THE LIST OF NUMBERS THAT FOLLOWS THE CASE WITHIN  INTERVAL:\n",
    "def factorial(n):\n",
    "    facto=1\n",
    "    for i in range(1, n+1):\n",
    "        facto = facto * i  #facto *= i\n",
    "    return facto\n",
    "\n",
    "print(\"The List of numbers that follows the case within interval\")\n",
    "def sum_of_facto(start, end):\n",
    "    for n in range(start, end):\n",
    "        temp = n\n",
    "        sum = 0\n",
    "        while (temp>0):\n",
    "            digit = temp % 10\n",
    "            temp = temp //10\n",
    "            facto = factorial(digit)\n",
    "            sum = sum + facto\n",
    "        if sum == n:\n",
    "            print(n)\n",
    "\n",
    "sum_of_facto(1, 200000)"
   ]
  }
 ],
 "metadata": {
  "kernelspec": {
   "display_name": "Python 3",
   "language": "python",
   "name": "python3"
  },
  "language_info": {
   "codemirror_mode": {
    "name": "ipython",
    "version": 3
   },
   "file_extension": ".py",
   "mimetype": "text/x-python",
   "name": "python",
   "nbconvert_exporter": "python",
   "pygments_lexer": "ipython3",
   "version": "3.12.4"
  }
 },
 "nbformat": 4,
 "nbformat_minor": 2
}
